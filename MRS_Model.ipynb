{
  "cells": [
    {
      "cell_type": "code",
      "execution_count": null,
      "metadata": {
        "colab": {
          "base_uri": "https://localhost:8080/"
        },
        "id": "IImwXnm0kiMY",
        "outputId": "3ad0d54a-5304-4ea5-bc35-010bce15a1e7"
      },
      "outputs": [
        {
          "name": "stdout",
          "output_type": "stream",
          "text": [
            "Requirement already satisfied: pandas in /usr/local/lib/python3.10/dist-packages (2.0.3)\n",
            "Requirement already satisfied: numpy in /usr/local/lib/python3.10/dist-packages (1.25.2)\n",
            "Requirement already satisfied: scikit-learn in /usr/local/lib/python3.10/dist-packages (1.2.2)\n",
            "Collecting surprise\n",
            "  Downloading surprise-0.1-py2.py3-none-any.whl (1.8 kB)\n",
            "Requirement already satisfied: python-dateutil>=2.8.2 in /usr/local/lib/python3.10/dist-packages (from pandas) (2.8.2)\n",
            "Requirement already satisfied: pytz>=2020.1 in /usr/local/lib/python3.10/dist-packages (from pandas) (2023.4)\n",
            "Requirement already satisfied: tzdata>=2022.1 in /usr/local/lib/python3.10/dist-packages (from pandas) (2024.1)\n",
            "Requirement already satisfied: scipy>=1.3.2 in /usr/local/lib/python3.10/dist-packages (from scikit-learn) (1.11.4)\n",
            "Requirement already satisfied: joblib>=1.1.1 in /usr/local/lib/python3.10/dist-packages (from scikit-learn) (1.4.2)\n",
            "Requirement already satisfied: threadpoolctl>=2.0.0 in /usr/local/lib/python3.10/dist-packages (from scikit-learn) (3.5.0)\n",
            "Collecting scikit-surprise (from surprise)\n",
            "  Downloading scikit_surprise-1.1.4.tar.gz (154 kB)\n",
            "\u001b[2K     \u001b[90m━━━━━━━━━━━━━━━━━━━━━━━━━━━━━━━━━━━━━━━━\u001b[0m \u001b[32m154.4/154.4 kB\u001b[0m \u001b[31m3.0 MB/s\u001b[0m eta \u001b[36m0:00:00\u001b[0m\n",
            "\u001b[?25h  Installing build dependencies ... \u001b[?25l\u001b[?25hdone\n",
            "  Getting requirements to build wheel ... \u001b[?25l\u001b[?25hdone\n",
            "  Preparing metadata (pyproject.toml) ... \u001b[?25l\u001b[?25hdone\n",
            "Requirement already satisfied: six>=1.5 in /usr/local/lib/python3.10/dist-packages (from python-dateutil>=2.8.2->pandas) (1.16.0)\n",
            "Building wheels for collected packages: scikit-surprise\n",
            "  Building wheel for scikit-surprise (pyproject.toml) ... \u001b[?25l\u001b[?25hdone\n",
            "  Created wheel for scikit-surprise: filename=scikit_surprise-1.1.4-cp310-cp310-linux_x86_64.whl size=2357237 sha256=3d6a3b9d2d84f615fc53a18e83d5ec2146c32226ab522cdfca8a08dd58df4f9a\n",
            "  Stored in directory: /root/.cache/pip/wheels/4b/3f/df/6acbf0a40397d9bf3ff97f582cc22fb9ce66adde75bc71fd54\n",
            "Successfully built scikit-surprise\n",
            "Installing collected packages: scikit-surprise, surprise\n",
            "Successfully installed scikit-surprise-1.1.4 surprise-0.1\n"
          ]
        }
      ],
      "source": [
        "pip install pandas numpy scikit-learn surprise\n"
      ]
    },
    {
      "cell_type": "code",
      "execution_count": null,
      "metadata": {
        "colab": {
          "base_uri": "https://localhost:8080/"
        },
        "id": "YhyRInJYkjG6",
        "outputId": "8e861f31-d080-44e9-c85e-e2107dc5fad1"
      },
      "outputs": [
        {
          "name": "stdout",
          "output_type": "stream",
          "text": [
            "   movieId                               title  \\\n",
            "0        1                    Toy Story (1995)   \n",
            "1        2                      Jumanji (1995)   \n",
            "2        3             Grumpier Old Men (1995)   \n",
            "3        4            Waiting to Exhale (1995)   \n",
            "4        5  Father of the Bride Part II (1995)   \n",
            "\n",
            "                                        genres  \n",
            "0  Adventure|Animation|Children|Comedy|Fantasy  \n",
            "1                   Adventure|Children|Fantasy  \n",
            "2                               Comedy|Romance  \n",
            "3                         Comedy|Drama|Romance  \n",
            "4                                       Comedy  \n",
            "   userId  movieId  rating  timestamp\n",
            "0       1        1     4.0  964982703\n",
            "1       1        3     4.0  964981247\n",
            "2       1        6     4.0  964982224\n",
            "3       1       47     5.0  964983815\n",
            "4       1       50     5.0  964982931\n"
          ]
        }
      ],
      "source": [
        "import pandas as pd\n",
        "\n",
        "# Load the datasets\n",
        "movies = pd.read_csv('/content/movies.csv')\n",
        "ratings = pd.read_csv('/content/ratings.csv')\n",
        "\n",
        "# Display the first few rows of the datasets\n",
        "print(movies.head())\n",
        "print(ratings.head())\n"
      ]
    },
    {
      "cell_type": "code",
      "execution_count": null,
      "metadata": {
        "colab": {
          "base_uri": "https://localhost:8080/"
        },
        "id": "uxG-bNzolpoZ",
        "outputId": "6d0d2edd-1549-4773-838b-80ce77261809"
      },
      "outputs": [
        {
          "name": "stdout",
          "output_type": "stream",
          "text": [
            "   userId  movieId  rating   timestamp             title  \\\n",
            "0       1        1     4.0   964982703  Toy Story (1995)   \n",
            "1       5        1     4.0   847434962  Toy Story (1995)   \n",
            "2       7        1     4.5  1106635946  Toy Story (1995)   \n",
            "3      15        1     2.5  1510577970  Toy Story (1995)   \n",
            "4      17        1     4.5  1305696483  Toy Story (1995)   \n",
            "\n",
            "                                        genres  \n",
            "0  Adventure|Animation|Children|Comedy|Fantasy  \n",
            "1  Adventure|Animation|Children|Comedy|Fantasy  \n",
            "2  Adventure|Animation|Children|Comedy|Fantasy  \n",
            "3  Adventure|Animation|Children|Comedy|Fantasy  \n",
            "4  Adventure|Animation|Children|Comedy|Fantasy  \n"
          ]
        }
      ],
      "source": [
        "# Merge movies and ratings dataframes\n",
        "data = pd.merge(ratings, movies, on='movieId')\n",
        "\n",
        "# Display the first few rows of the merged dataset\n",
        "print(data.head())\n"
      ]
    },
    {
      "cell_type": "code",
      "execution_count": null,
      "metadata": {
        "colab": {
          "base_uri": "https://localhost:8080/"
        },
        "id": "ztlVD37Llv6o",
        "outputId": "339902e7-025f-48ca-93cc-38fb0d308afc"
      },
      "outputs": [
        {
          "name": "stdout",
          "output_type": "stream",
          "text": [
            "RMSE: 0.8759\n"
          ]
        },
        {
          "data": {
            "text/plain": [
              "0.8758908441796538"
            ]
          },
          "execution_count": 5,
          "metadata": {},
          "output_type": "execute_result"
        }
      ],
      "source": [
        "from surprise import Dataset, Reader, SVD\n",
        "from surprise.model_selection import train_test_split\n",
        "from surprise import accuracy\n",
        "\n",
        "# Load data into Surprise format\n",
        "reader = Reader(rating_scale=(0.5, 5.0))\n",
        "data = Dataset.load_from_df(ratings[['userId', 'movieId', 'rating']], reader)\n",
        "\n",
        "# Split data into training and test sets\n",
        "trainset, testset = train_test_split(data, test_size=0.2)\n",
        "\n",
        "# Build and train the SVD model\n",
        "algo = SVD()\n",
        "algo.fit(trainset)\n",
        "\n",
        "# Make predictions on the test set\n",
        "predictions = algo.test(testset)\n",
        "\n",
        "# Compute and print RMSE\n",
        "accuracy.rmse(predictions)\n"
      ]
    },
    {
      "cell_type": "code",
      "execution_count": null,
      "metadata": {
        "colab": {
          "base_uri": "https://localhost:8080/"
        },
        "id": "3BlbJh9nmEFm",
        "outputId": "c95f30a2-18b8-499e-b4f4-6b581ffcaa38"
      },
      "outputs": [
        {
          "name": "stdout",
          "output_type": "stream",
          "text": [
            "474                                  Blade Runner (1982)\n",
            "602    Dr. Strangelove or: How I Learned to Stop Worr...\n",
            "686                                   Rear Window (1954)\n",
            "690                            North by Northwest (1959)\n",
            "694                                    Casablanca (1942)\n",
            "828                                Reservoir Dogs (1992)\n",
            "863               Monty Python and the Holy Grail (1975)\n",
            "883                                Paths of Glory (1957)\n",
            "898    Star Wars: Episode V - The Empire Strikes Back...\n",
            "900    Raiders of the Lost Ark (Indiana Jones and the...\n",
            "Name: title, dtype: object\n"
          ]
        }
      ],
      "source": [
        "def get_top_n_recommendations(user_id, n=10):\n",
        "    # Get a list of all movie IDs\n",
        "    movie_ids = movies['movieId'].unique()\n",
        "\n",
        "    # Get a list of movie IDs the user has rated\n",
        "    user_rated_movie_ids = ratings[ratings['userId'] == user_id]['movieId']\n",
        "\n",
        "    # Predict ratings for all movies the user hasn't rated yet\n",
        "    movie_ids_to_predict = [movie_id for movie_id in movie_ids if movie_id not in user_rated_movie_ids]\n",
        "    predictions = [algo.predict(user_id, movie_id) for movie_id in movie_ids_to_predict]\n",
        "\n",
        "    # Sort predictions by estimated rating in descending order\n",
        "    predictions.sort(key=lambda x: x.est, reverse=True)\n",
        "\n",
        "    # Get the top N predictions\n",
        "    top_n_predictions = predictions[:n]\n",
        "\n",
        "    # Get the movie titles for the top N predictions\n",
        "    top_n_movie_ids = [pred.iid for pred in top_n_predictions]\n",
        "    top_n_movie_titles = movies[movies['movieId'].isin(top_n_movie_ids)]['title']\n",
        "\n",
        "    return top_n_movie_titles\n",
        "\n",
        "# Example: Get top 10 recommendations for user with userId 1\n",
        "top_recommendations = get_top_n_recommendations(user_id=1, n=10)\n",
        "print(top_recommendations)\n"
      ]
    },
    {
      "cell_type": "code",
      "execution_count": null,
      "metadata": {
        "colab": {
          "base_uri": "https://localhost:8080/"
        },
        "id": "E-VFVvMfqIM2",
        "outputId": "70b6b6fa-5bde-4157-f7f5-5224884cbe06"
      },
      "outputs": [
        {
          "name": "stdout",
          "output_type": "stream",
          "text": [
            "0.8679097355398592\n",
            "{'n_epochs': 30, 'lr_all': 0.01, 'reg_all': 0.05}\n"
          ]
        },
        {
          "data": {
            "text/plain": [
              "<surprise.prediction_algorithms.matrix_factorization.SVD at 0x7c569e784a90>"
            ]
          },
          "execution_count": 7,
          "metadata": {},
          "output_type": "execute_result"
        }
      ],
      "source": [
        "from surprise.model_selection import GridSearchCV\n",
        "\n",
        "# Define parameter grid for GridSearchCV\n",
        "param_grid = {'n_epochs': [20, 30], 'lr_all': [0.005, 0.010], 'reg_all': [0.02, 0.05]}\n",
        "gs = GridSearchCV(SVD, param_grid, measures=['rmse'], cv=3)\n",
        "\n",
        "# Perform the grid search\n",
        "gs.fit(data)\n",
        "\n",
        "# Best RMSE score\n",
        "print(gs.best_score['rmse'])\n",
        "\n",
        "# Best parameters\n",
        "print(gs.best_params['rmse'])\n",
        "\n",
        "# Use the best model\n",
        "algo = gs.best_estimator['rmse']\n",
        "algo.fit(trainset)\n"
      ]
    },
    {
      "cell_type": "code",
      "execution_count": null,
      "metadata": {
        "colab": {
          "base_uri": "https://localhost:8080/"
        },
        "id": "O6qQUFTdqQ_S",
        "outputId": "23da67fc-c599-4700-87a8-fda7b04a9242"
      },
      "outputs": [
        {
          "name": "stdout",
          "output_type": "stream",
          "text": [
            "Requirement already satisfied: flask-ngrok in /usr/local/lib/python3.10/dist-packages (0.0.25)\n",
            "Requirement already satisfied: Flask>=0.8 in /usr/local/lib/python3.10/dist-packages (from flask-ngrok) (2.2.5)\n",
            "Requirement already satisfied: requests in /usr/local/lib/python3.10/dist-packages (from flask-ngrok) (2.31.0)\n",
            "Requirement already satisfied: Werkzeug>=2.2.2 in /usr/local/lib/python3.10/dist-packages (from Flask>=0.8->flask-ngrok) (3.0.3)\n",
            "Requirement already satisfied: Jinja2>=3.0 in /usr/local/lib/python3.10/dist-packages (from Flask>=0.8->flask-ngrok) (3.1.4)\n",
            "Requirement already satisfied: itsdangerous>=2.0 in /usr/local/lib/python3.10/dist-packages (from Flask>=0.8->flask-ngrok) (2.2.0)\n",
            "Requirement already satisfied: click>=8.0 in /usr/local/lib/python3.10/dist-packages (from Flask>=0.8->flask-ngrok) (8.1.7)\n",
            "Requirement already satisfied: charset-normalizer<4,>=2 in /usr/local/lib/python3.10/dist-packages (from requests->flask-ngrok) (3.3.2)\n",
            "Requirement already satisfied: idna<4,>=2.5 in /usr/local/lib/python3.10/dist-packages (from requests->flask-ngrok) (3.7)\n",
            "Requirement already satisfied: urllib3<3,>=1.21.1 in /usr/local/lib/python3.10/dist-packages (from requests->flask-ngrok) (2.0.7)\n",
            "Requirement already satisfied: certifi>=2017.4.17 in /usr/local/lib/python3.10/dist-packages (from requests->flask-ngrok) (2024.2.2)\n",
            "Requirement already satisfied: MarkupSafe>=2.0 in /usr/local/lib/python3.10/dist-packages (from Jinja2>=3.0->Flask>=0.8->flask-ngrok) (2.1.5)\n",
            "Requirement already satisfied: flask in /usr/local/lib/python3.10/dist-packages (2.2.5)\n",
            "Requirement already satisfied: Werkzeug>=2.2.2 in /usr/local/lib/python3.10/dist-packages (from flask) (3.0.3)\n",
            "Requirement already satisfied: Jinja2>=3.0 in /usr/local/lib/python3.10/dist-packages (from flask) (3.1.4)\n",
            "Requirement already satisfied: itsdangerous>=2.0 in /usr/local/lib/python3.10/dist-packages (from flask) (2.2.0)\n",
            "Requirement already satisfied: click>=8.0 in /usr/local/lib/python3.10/dist-packages (from flask) (8.1.7)\n",
            "Requirement already satisfied: MarkupSafe>=2.0 in /usr/local/lib/python3.10/dist-packages (from Jinja2>=3.0->flask) (2.1.5)\n",
            "Collecting pyngrok\n",
            "  Downloading pyngrok-7.1.6-py3-none-any.whl (22 kB)\n",
            "Requirement already satisfied: PyYAML>=5.1 in /usr/local/lib/python3.10/dist-packages (from pyngrok) (6.0.1)\n",
            "Installing collected packages: pyngrok\n",
            "Successfully installed pyngrok-7.1.6\n"
          ]
        }
      ],
      "source": [
        "!pip install flask-ngrok\n",
        "!pip install flask\n",
        "!pip install pyngrok\n"
      ]
    },
    {
      "cell_type": "code",
      "execution_count": null,
      "metadata": {
        "id": "HFa9wOyUqXPX"
      },
      "outputs": [],
      "source": [
        "from pyngrok import ngrok\n",
        "\n",
        "# Insert your Ngrok authtoken here\n",
        "ngrok_authtoken = '2hEWZvwLigfXrieDWKoxpcykWjt_3gLm3Uc6LCaBEwFgW5Qwh'\n",
        "ngrok.set_auth_token(ngrok_authtoken)\n"
      ]
    },
    {
      "cell_type": "code",
      "execution_count": null,
      "metadata": {
        "id": "V5D1ivWfsPDe"
      },
      "outputs": [],
      "source": [
        "from flask import Flask, request, jsonify\n",
        "from surprise import Dataset, Reader, SVD\n",
        "import pandas as pd\n",
        "\n",
        "# Initialize the Flask application\n",
        "app = Flask(__name__)\n",
        "\n",
        "# Load your pre-trained model and data\n",
        "reader = Reader(rating_scale=(0.5, 5.0))\n",
        "ratings = pd.read_csv('/content/ratings.csv')\n",
        "movies = pd.read_csv('/content/movies.csv')\n",
        "data = Dataset.load_from_df(ratings[['userId', 'movieId', 'rating']], reader)\n",
        "algo = SVD()\n",
        "trainset = data.build_full_trainset()\n",
        "algo.fit(trainset)\n",
        "\n",
        "@app.route('/')\n",
        "def home():\n",
        "    return \"Movie Recommendation System is Running\"\n",
        "\n",
        "@app.route('/recommend', methods=['POST'])\n",
        "def recommend():\n",
        "    print(\"Request received!\")\n",
        "    user_id = int(request.json.get('user_id'))\n",
        "    n = int(request.json.get('n', 10))\n",
        "    print(f\"User ID: {user_id}, Number of recommendations: {n}\")\n",
        "\n",
        "    # Get recommendations\n",
        "    top_n_recommendations = get_top_n_recommendations(user_id, n)\n",
        "    print(f\"Recommendations: {top_n_recommendations.tolist()}\")\n",
        "\n",
        "    return jsonify({'recommendations': top_n_recommendations.tolist()})\n",
        "\n",
        "\n",
        "def get_top_n_recommendations(user_id, n=10):\n",
        "    movie_ids = movies['movieId'].unique()\n",
        "    user_rated_movie_ids = ratings[ratings['userId'] == user_id]['movieId']\n",
        "    movie_ids_to_predict = [movie_id for movie_id in movie_ids if movie_id not in user_rated_movie_ids]\n",
        "    predictions = [algo.predict(user_id, movie_id) for movie_id in movie_ids_to_predict]\n",
        "    predictions.sort(key=lambda x: x.est, reverse=True)\n",
        "    top_n_predictions = predictions[:n]\n",
        "    top_n_movie_ids = [pred.iid for pred in top_n_predictions]\n",
        "    top_n_movie_titles = movies[movies['movieId'].isin(top_n_movie_ids)]['title']\n",
        "    return top_n_movie_titles\n"
      ]
    },
    {
      "cell_type": "code",
      "execution_count": null,
      "metadata": {
        "colab": {
          "background_save": true,
          "base_uri": "https://localhost:8080/"
        },
        "id": "15OXt10uuNEg",
        "outputId": "75cf3b00-241a-4b96-b2bb-daf55c77585e"
      },
      "outputs": [
        {
          "name": "stdout",
          "output_type": "stream",
          "text": [
            "Ngrok Tunnel URL: NgrokTunnel: \"https://5763-35-234-10-140.ngrok-free.app\" -> \"http://localhost:5000\"\n",
            " * Serving Flask app '__main__'\n",
            " * Debug mode: off\n"
          ]
        },
        {
          "name": "stderr",
          "output_type": "stream",
          "text": [
            "INFO:werkzeug:\u001b[31m\u001b[1mWARNING: This is a development server. Do not use it in a production deployment. Use a production WSGI server instead.\u001b[0m\n",
            " * Running on http://127.0.0.1:5000\n",
            "INFO:werkzeug:\u001b[33mPress CTRL+C to quit\u001b[0m\n",
            "INFO:werkzeug:127.0.0.1 - - [31/May/2024 13:07:04] \"GET / HTTP/1.1\" 200 -\n",
            "INFO:werkzeug:127.0.0.1 - - [31/May/2024 13:07:05] \"\u001b[33mGET /favicon.ico HTTP/1.1\u001b[0m\" 404 -\n",
            "INFO:werkzeug:127.0.0.1 - - [31/May/2024 13:08:33] \"GET / HTTP/1.1\" 200 -\n",
            "INFO:werkzeug:127.0.0.1 - - [31/May/2024 13:09:02] \"GET / HTTP/1.1\" 200 -\n",
            "INFO:werkzeug:127.0.0.1 - - [31/May/2024 13:09:03] \"\u001b[33mGET /favicon.ico HTTP/1.1\u001b[0m\" 404 -\n",
            "INFO:werkzeug:127.0.0.1 - - [31/May/2024 13:21:20] \"POST /recommend HTTP/1.1\" 200 -\n"
          ]
        },
        {
          "name": "stdout",
          "output_type": "stream",
          "text": [
            "Request received!\n",
            "User ID: 1, Number of recommendations: 10\n",
            "Recommendations: ['Hoop Dreams (1994)', 'Shawshank Redemption, The (1994)', 'In the Name of the Father (1993)', \"Schindler's List (1993)\", 'Blade Runner (1982)', 'Terminator 2: Judgment Day (1991)', 'Wallace & Gromit: The Best of Aardman Animation (1996)', 'Dr. Strangelove or: How I Learned to Stop Worrying and Love the Bomb (1964)', 'Godfather, The (1972)', 'Rear Window (1954)']\n"
          ]
        },
        {
          "name": "stderr",
          "output_type": "stream",
          "text": [
            "INFO:werkzeug:127.0.0.1 - - [31/May/2024 13:22:41] \"GET / HTTP/1.1\" 200 -\n"
          ]
        }
      ],
      "source": [
        "# Start Ngrok\n",
        "public_url = ngrok.connect(5000)\n",
        "print(f\"Ngrok Tunnel URL: {public_url}\")\n",
        "\n",
        "# Run Flask app\n",
        "app.run()\n"
      ]
    },
    {
      "cell_type": "code",
      "execution_count": null,
      "metadata": {
        "id": "hd_HWNiTv5GB"
      },
      "outputs": [],
      "source": []
    }
  ],
  "metadata": {
    "colab": {
      "provenance": []
    },
    "kernelspec": {
      "display_name": "Python 3",
      "name": "python3"
    },
    "language_info": {
      "name": "python"
    }
  },
  "nbformat": 4,
  "nbformat_minor": 0
}