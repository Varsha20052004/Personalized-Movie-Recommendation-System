{
  "nbformat": 4,
  "nbformat_minor": 0,
  "metadata": {
    "colab": {
      "provenance": []
    },
    "kernelspec": {
      "name": "python3",
      "display_name": "Python 3"
    },
    "language_info": {
      "name": "python"
    }
  },
  "cells": [
    {
      "cell_type": "code",
      "execution_count": null,
      "metadata": {
        "colab": {
          "base_uri": "https://localhost:8080/"
        },
        "id": "sfStDO1_z6-Q",
        "outputId": "afa4a8fc-8266-4072-ba04-3fbc0688571f"
      },
      "outputs": [
        {
          "output_type": "stream",
          "name": "stdout",
          "text": [
            "{\"recommendations\":[\"Hoop Dreams (1994)\",\"Shawshank Redemption, The (1994)\",\"In the Name of the Father (1993)\",\"Schindler's List (1993)\",\"Blade Runner (1982)\",\"Terminator 2: Judgment Day (1991)\",\"Wallace & Gromit: The Best of Aardman Animation (1996)\",\"Dr. Strangelove or: How I Learned to Stop Worrying and Love the Bomb (1964)\",\"Godfather, The (1972)\",\"Rear Window (1954)\"]}\n",
            "\n"
          ]
        }
      ],
      "source": [
        "import requests\n",
        "\n",
        "# Replace this with the Ngrok URL printed by the Flask app\n",
        "url = 'https://5763-35-234-10-140.ngrok-free.app/recommend'\n",
        "\n",
        "payload = {\n",
        "    'user_id': 1,\n",
        "    'n': 10\n",
        "}\n",
        "\n",
        "response = requests.post(url, json=payload)\n",
        "print(response.text)  # Print raw text response to debug\n"
      ]
    },
    {
      "cell_type": "code",
      "source": [],
      "metadata": {
        "id": "EjsJbdCkz7m_"
      },
      "execution_count": null,
      "outputs": []
    }
  ]
}